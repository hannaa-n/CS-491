{
  "nbformat": 4,
  "nbformat_minor": 0,
  "metadata": {
    "colab": {
      "provenance": [],
      "include_colab_link": true
    },
    "kernelspec": {
      "name": "python3",
      "display_name": "Python 3"
    },
    "language_info": {
      "name": "python"
    }
  },
  "cells": [
    {
      "cell_type": "markdown",
      "metadata": {
        "id": "view-in-github",
        "colab_type": "text"
      },
      "source": [
        "<a href=\"https://colab.research.google.com/github/hannaa-n/CS-491/blob/main/HuggingFaceTest.ipynb\" target=\"_parent\"><img src=\"https://colab.research.google.com/assets/colab-badge.svg\" alt=\"Open In Colab\"/></a>"
      ]
    },
    {
      "cell_type": "markdown",
      "source": [
        "The purpose of this noteboook is for you to test to see if your Hugging Face secret key in Colab is working OK.\n",
        "\n",
        "We will read in some entries from this huggingface data set\n",
        "\n",
        " https://huggingface.co/datasets/nyu-mll/glue/viewer/ax/test\n",
        "\n"
      ],
      "metadata": {
        "id": "wYP_q5wSHK-Q"
      }
    },
    {
      "cell_type": "markdown",
      "source": [
        "Execute the code cells below.\n",
        "\n",
        "Do not worry about error or warning from the first code cell (the !pip install)"
      ],
      "metadata": {
        "id": "juri1wI-HvO5"
      }
    },
    {
      "cell_type": "code",
      "source": [
        "!pip install datasets -q"
      ],
      "metadata": {
        "id": "ZGs1j6cqHERr"
      },
      "execution_count": 5,
      "outputs": []
    },
    {
      "cell_type": "code",
      "source": [
        "from datasets import load_dataset # Import the load_dataset function from the datasets library\n",
        "\n",
        "# Load the dataset\n",
        "dataset = load_dataset(\"nyu-mll/glue\", \"ax\", split=\"test\")"
      ],
      "metadata": {
        "id": "JtxhzgFNI1Ri"
      },
      "execution_count": 6,
      "outputs": []
    },
    {
      "cell_type": "code",
      "source": [
        "# Load the dataset\n",
        "dataset = load_dataset(\"nyu-mll/glue\", \"ax\", split=\"test\")"
      ],
      "metadata": {
        "id": "nWWjBSYGHb0K"
      },
      "execution_count": 7,
      "outputs": []
    },
    {
      "cell_type": "code",
      "source": [
        "# Extract premise and hypothesis for the first five entries\n",
        "premises = [dataset[i][\"premise\"] for i in range(5)]\n",
        "hypotheses = [dataset[i][\"hypothesis\"] for i in range(5)]\n",
        "\n",
        "\n",
        "# Print the results\n",
        "for i in range(5):\n",
        "    print(f\"Entry {i+1}:\")\n",
        "    print(f\"Premise: {premises[i]}\")\n",
        "    print(f\"Hypothesis: {hypotheses[i]}\")\n",
        "    print(\"---\")"
      ],
      "metadata": {
        "colab": {
          "base_uri": "https://localhost:8080/"
        },
        "id": "B05d0T-AFcEC",
        "outputId": "77ea66e6-fd30-4429-f6e3-b0a1e3829eda"
      },
      "execution_count": 8,
      "outputs": [
        {
          "output_type": "stream",
          "name": "stdout",
          "text": [
            "Entry 1:\n",
            "Premise: The cat sat on the mat.\n",
            "Hypothesis: The cat did not sit on the mat.\n",
            "---\n",
            "Entry 2:\n",
            "Premise: The cat did not sit on the mat.\n",
            "Hypothesis: The cat sat on the mat.\n",
            "---\n",
            "Entry 3:\n",
            "Premise: When you've got no snow, it's really hard to learn a snow sport so we looked at all the different ways I could mimic being on snow without actually being on snow.\n",
            "Hypothesis: When you've got snow, it's really hard to learn a snow sport so we looked at all the different ways I could mimic being on snow without actually being on snow.\n",
            "---\n",
            "Entry 4:\n",
            "Premise: When you've got snow, it's really hard to learn a snow sport so we looked at all the different ways I could mimic being on snow without actually being on snow.\n",
            "Hypothesis: When you've got no snow, it's really hard to learn a snow sport so we looked at all the different ways I could mimic being on snow without actually being on snow.\n",
            "---\n",
            "Entry 5:\n",
            "Premise: Out of the box, Ouya supports media apps such as Twitch.tv and XBMC media player.\n",
            "Hypothesis: Out of the box, Ouya doesn't support media apps such as Twitch.tv and XBMC media player.\n",
            "---\n"
          ]
        }
      ]
    },
    {
      "cell_type": "code",
      "source": [],
      "metadata": {
        "id": "-hF-iGWvDfpA"
      },
      "execution_count": 8,
      "outputs": []
    }
  ]
}